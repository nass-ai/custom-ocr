{
 "cells": [
  {
   "cell_type": "code",
   "execution_count": 1,
   "metadata": {},
   "outputs": [],
   "source": [
    "import tensorflow as tf"
   ]
  },
  {
   "cell_type": "code",
   "execution_count": 2,
   "metadata": {},
   "outputs": [
    {
     "data": {
      "text/plain": [
       "'2.1.0'"
      ]
     },
     "execution_count": 2,
     "metadata": {},
     "output_type": "execute_result"
    }
   ],
   "source": [
    "tf.__version__"
   ]
  },
  {
   "cell_type": "code",
   "execution_count": 4,
   "metadata": {},
   "outputs": [
    {
     "name": "stdout",
     "output_type": "stream",
     "text": [
      "/Users/aobaruwa/anaconda3/bin/python\r\n"
     ]
    }
   ],
   "source": [
    "! which python"
   ]
  },
  {
   "cell_type": "code",
   "execution_count": 21,
   "metadata": {},
   "outputs": [
    {
     "name": "stdout",
     "output_type": "stream",
     "text": [
      "The tensorboard extension is already loaded. To reload it, use:\n",
      "  %reload_ext tensorboard\n"
     ]
    },
    {
     "data": {
      "text/plain": [
       "Reusing TensorBoard on port 6007 (pid 3230), started 3:32:18 ago. (Use '!kill 3230' to kill it.)"
      ]
     },
     "metadata": {},
     "output_type": "display_data"
    },
    {
     "data": {
      "text/html": [
       "\n",
       "      <iframe id=\"tensorboard-frame-e5d20ef6a64392c\" width=\"100%\" height=\"800\" frameborder=\"0\">\n",
       "      </iframe>\n",
       "      <script>\n",
       "        (function() {\n",
       "          const frame = document.getElementById(\"tensorboard-frame-e5d20ef6a64392c\");\n",
       "          const url = new URL(\"/\", window.location);\n",
       "          url.port = 6007;\n",
       "          frame.src = url;\n",
       "        })();\n",
       "      </script>\n",
       "  "
      ],
      "text/plain": [
       "<IPython.core.display.HTML object>"
      ]
     },
     "metadata": {},
     "output_type": "display_data"
    }
   ],
   "source": [
    "%load_ext tensorboard\n",
    "%tensorboard --logdir /Users/aobaruwa/Desktop/nassai/train/train/logs/gradient_tape"
   ]
  },
  {
   "cell_type": "code",
   "execution_count": 12,
   "metadata": {},
   "outputs": [
    {
     "name": "stdout",
     "output_type": "stream",
     "text": [
      "\u001b[33mDEPRECATION: Python 2.7 will reach the end of its life on January 1st, 2020. Please upgrade your Python as Python 2.7 won't be maintained after that date. A future version of pip will drop support for Python 2.7. More details about Python 2 support in pip, can be found at https://pip.pypa.io/en/latest/development/release-process/#python-2-support\u001b[0m\n",
      "Package                       Version    \n",
      "----------------------------- -----------\n",
      "absl-py                       0.8.0      \n",
      "astor                         0.8.0      \n",
      "backports.functools-lru-cache 1.5        \n",
      "backports.weakref             1.0.post1  \n",
      "beautifulsoup4                4.8.2      \n",
      "bs4                           0.0.1      \n",
      "catboost                      0.17.3     \n",
      "certifi                       2019.11.28 \n",
      "cffi                          1.12.3     \n",
      "chardet                       3.0.4      \n",
      "cycler                        0.10.0     \n",
      "enum34                        1.1.6      \n",
      "funcsigs                      1.0.2      \n",
      "functools32                   3.2.3.post2\n",
      "futures                       3.3.0      \n",
      "gast                          0.2.2      \n",
      "google-pasta                  0.1.7      \n",
      "graphviz                      0.13       \n",
      "grpcio                        1.23.0     \n",
      "h5py                          2.9.0      \n",
      "idna                          2.8        \n",
      "Keras-Applications            1.0.8      \n",
      "Keras-Preprocessing           1.1.0      \n",
      "kiwisolver                    1.1.0      \n",
      "Markdown                      3.1.1      \n",
      "matplotlib                    2.2.4      \n",
      "mock                          3.0.5      \n",
      "numpy                         1.16.5     \n",
      "opt-einsum                    2.3.2      \n",
      "pandas                        0.24.2     \n",
      "pathlib                       1.0.1      \n",
      "Pillow                        6.2.2      \n",
      "pip                           19.2.3     \n",
      "plotly                        4.1.1      \n",
      "protobuf                      3.9.1      \n",
      "pycparser                     2.19       \n",
      "PyDocX                        0.9.10     \n",
      "pyparsing                     2.4.2      \n",
      "python-dateutil               2.8.0      \n",
      "pytz                          2019.2     \n",
      "requests                      2.22.0     \n",
      "retrying                      1.3.3      \n",
      "scipy                         1.2.0      \n",
      "six                           1.12.0     \n",
      "SoundFile                     0.10.2     \n",
      "soupsieve                     1.9.5      \n",
      "subprocess32                  3.5.4      \n",
      "tensorboard                   2.0.0      \n",
      "tensorflow                    2.0.0      \n",
      "tensorflow-estimator          2.0.0      \n",
      "termcolor                     1.1.0      \n",
      "tika                          1.19       \n",
      "torch                         1.4.0      \n",
      "torchvision                   0.5.0      \n",
      "tqdm                          4.42.0     \n",
      "urllib3                       1.25.7     \n",
      "virtualenv                    16.7.9     \n",
      "Werkzeug                      0.15.5     \n",
      "wheel                         0.33.6     \n",
      "wrapt                         1.11.2     \n",
      "\u001b[33mWARNING: You are using pip version 19.2.3, however version 20.0.2 is available.\n",
      "You should consider upgrading via the 'pip install --upgrade pip' command.\u001b[0m\n"
     ]
    }
   ],
   "source": [
    "! pip2 list"
   ]
  },
  {
   "cell_type": "code",
   "execution_count": 17,
   "metadata": {},
   "outputs": [],
   "source": [
    "! pip install setuptools>=41.0.0 "
   ]
  },
  {
   "cell_type": "code",
   "execution_count": 14,
   "metadata": {},
   "outputs": [
    {
     "name": "stdout",
     "output_type": "stream",
     "text": [
      "\u001b[33mWARNING: Skipping tb-nightly as it is not installed.\u001b[0m\r\n"
     ]
    }
   ],
   "source": [
    "! pip uninstall tb-nightly -y"
   ]
  },
  {
   "cell_type": "code",
   "execution_count": null,
   "metadata": {},
   "outputs": [],
   "source": [
    "\n"
   ]
  }
 ],
 "metadata": {
  "kernelspec": {
   "display_name": "env",
   "language": "python",
   "name": "env"
  },
  "language_info": {
   "codemirror_mode": {
    "name": "ipython",
    "version": 3
   },
   "file_extension": ".py",
   "mimetype": "text/x-python",
   "name": "python",
   "nbconvert_exporter": "python",
   "pygments_lexer": "ipython3",
   "version": "3.7.3"
  }
 },
 "nbformat": 4,
 "nbformat_minor": 2
}
